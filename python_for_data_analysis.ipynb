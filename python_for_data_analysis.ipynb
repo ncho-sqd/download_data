{
 "cells": [
  {
   "cell_type": "markdown",
   "metadata": {},
   "source": [
    "# Ch. 2 Introductory Examples"
   ]
  },
  {
   "cell_type": "code",
   "execution_count": 2,
   "metadata": {},
   "outputs": [
    {
     "data": {
      "text/plain": [
       "'{ \"a\": \"Mozilla\\\\/5.0 (Windows NT 6.1; WOW64) AppleWebKit\\\\/535.11 (KHTML, like Gecko) Chrome\\\\/17.0.963.78 Safari\\\\/535.11\", \"c\": \"US\", \"nk\": 1, \"tz\": \"America\\\\/New_York\", \"gr\": \"MA\", \"g\": \"A6qOVH\", \"h\": \"wfLQtf\", \"l\": \"orofrog\", \"al\": \"en-US,en;q=0.8\", \"hh\": \"1.usa.gov\", \"r\": \"http:\\\\/\\\\/www.facebook.com\\\\/l\\\\/7AQEFzjSi\\\\/1.usa.gov\\\\/wfLQtf\", \"u\": \"http:\\\\/\\\\/www.ncbi.nlm.nih.gov\\\\/pubmed\\\\/22415991\", \"t\": 1331923247, \"hc\": 1331822918, \"cy\": \"Danvers\", \"ll\": [ 42.576698, -70.954903 ] }\\n'"
      ]
     },
     "execution_count": 2,
     "metadata": {},
     "output_type": "execute_result"
    }
   ],
   "source": [
    "# peak into file\n",
    "path = '/home/Neil/python_for_data_analysis/pydata-book/datasets/bitly_usagov/example.txt'\n",
    "open(path).readline()"
   ]
  },
  {
   "cell_type": "code",
   "execution_count": 3,
   "metadata": {},
   "outputs": [
    {
     "data": {
      "text/plain": [
       "{'a': 'Mozilla/5.0 (Windows NT 6.1; WOW64) AppleWebKit/535.11 (KHTML, like Gecko) Chrome/17.0.963.78 Safari/535.11',\n",
       " 'al': 'en-US,en;q=0.8',\n",
       " 'c': 'US',\n",
       " 'cy': 'Danvers',\n",
       " 'g': 'A6qOVH',\n",
       " 'gr': 'MA',\n",
       " 'h': 'wfLQtf',\n",
       " 'hc': 1331822918,\n",
       " 'hh': '1.usa.gov',\n",
       " 'l': 'orofrog',\n",
       " 'll': [42.576698, -70.954903],\n",
       " 'nk': 1,\n",
       " 'r': 'http://www.facebook.com/l/7AQEFzjSi/1.usa.gov/wfLQtf',\n",
       " 't': 1331923247,\n",
       " 'tz': 'America/New_York',\n",
       " 'u': 'http://www.ncbi.nlm.nih.gov/pubmed/22415991'}"
      ]
     },
     "execution_count": 3,
     "metadata": {},
     "output_type": "execute_result"
    }
   ],
   "source": [
    "# parse json\n",
    "import json\n",
    "records = [json.loads(line) for line in open(path)]\n",
    "records[0]"
   ]
  },
  {
   "cell_type": "code",
   "execution_count": 4,
   "metadata": {},
   "outputs": [
    {
     "data": {
      "text/plain": [
       "'America/New_York'"
      ]
     },
     "execution_count": 4,
     "metadata": {},
     "output_type": "execute_result"
    }
   ],
   "source": [
    "records[0]['tz']"
   ]
  },
  {
   "cell_type": "code",
   "execution_count": 10,
   "metadata": {},
   "outputs": [
    {
     "name": "stdout",
     "output_type": "stream",
     "text": [
      "{'America/New_York': 1251, 'America/Denver': 191, 'America/Sao_Paulo': 33, 'Europe/Warsaw': 16, '': 521, 'America/Los_Angeles': 382, 'Asia/Hong_Kong': 10, 'Europe/Rome': 27, 'Africa/Ceuta': 2, 'Europe/Madrid': 35, 'Asia/Kuala_Lumpur': 3, 'Asia/Nicosia': 1, 'Europe/London': 74, 'Pacific/Honolulu': 36, 'America/Chicago': 400, 'Europe/Malta': 2, 'Europe/Lisbon': 8, 'Europe/Paris': 14, 'Europe/Copenhagen': 5, 'America/Mazatlan': 1, 'Europe/Dublin': 3, 'Europe/Brussels': 4, 'America/Vancouver': 12, 'Europe/Amsterdam': 22, 'Europe/Prague': 10, 'Europe/Stockholm': 14, 'America/Anchorage': 5, 'Asia/Bangkok': 6, 'Europe/Berlin': 28, 'America/Rainy_River': 25, 'Europe/Budapest': 5, 'Asia/Tokyo': 37, 'Europe/Vienna': 6, 'America/Phoenix': 20, 'Asia/Jerusalem': 3, 'Asia/Karachi': 3, 'America/Bogota': 3, 'America/Indianapolis': 20, 'America/Montreal': 9, 'Asia/Calcutta': 9, 'Europe/Skopje': 1, 'Asia/Beirut': 4, 'Australia/NSW': 6, 'Chile/Continental': 6, 'America/Halifax': 4, 'America/Edmonton': 6, 'Europe/Bratislava': 3, 'America/Recife': 2, 'Africa/Cairo': 3, 'Asia/Istanbul': 9, 'Asia/Novosibirsk': 1, 'Europe/Moscow': 10, 'Europe/Sofia': 1, 'Europe/Ljubljana': 1, 'America/Mexico_City': 15, 'Europe/Helsinki': 10, 'Europe/Bucharest': 4, 'Europe/Zurich': 4, 'America/Puerto_Rico': 10, 'America/Monterrey': 1, 'Europe/Athens': 6, 'America/Winnipeg': 4, 'Europe/Riga': 2, 'America/Argentina/Buenos_Aires': 1, 'Asia/Dubai': 4, 'Europe/Oslo': 10, 'Asia/Yekaterinburg': 1, 'Asia/Manila': 1, 'America/Caracas': 1, 'Asia/Riyadh': 1, 'America/Montevideo': 1, 'America/Argentina/Mendoza': 1, 'Asia/Seoul': 5, 'Europe/Uzhgorod': 1, 'Australia/Queensland': 1, 'Europe/Belgrade': 2, 'America/Costa_Rica': 1, 'America/Lima': 1, 'Asia/Pontianak': 1, 'America/Chihuahua': 2, 'Europe/Vilnius': 2, 'America/Managua': 3, 'Africa/Lusaka': 1, 'America/Guayaquil': 2, 'Asia/Harbin': 3, 'Asia/Amman': 2, 'Africa/Johannesburg': 1, 'America/St_Kitts': 1, 'Pacific/Auckland': 11, 'America/Santo_Domingo': 1, 'America/Argentina/Cordoba': 1, 'Asia/Kuching': 1, 'Europe/Volgograd': 1, 'America/La_Paz': 1, 'Africa/Casablanca': 1, 'Asia/Jakarta': 3, 'America/Tegucigalpa': 1}\n"
     ]
    },
    {
     "data": {
      "text/plain": [
       "defaultdict(int,\n",
       "            {'': 521,\n",
       "             'Africa/Cairo': 3,\n",
       "             'Africa/Casablanca': 1,\n",
       "             'Africa/Ceuta': 2,\n",
       "             'Africa/Johannesburg': 1,\n",
       "             'Africa/Lusaka': 1,\n",
       "             'America/Anchorage': 5,\n",
       "             'America/Argentina/Buenos_Aires': 1,\n",
       "             'America/Argentina/Cordoba': 1,\n",
       "             'America/Argentina/Mendoza': 1,\n",
       "             'America/Bogota': 3,\n",
       "             'America/Caracas': 1,\n",
       "             'America/Chicago': 400,\n",
       "             'America/Chihuahua': 2,\n",
       "             'America/Costa_Rica': 1,\n",
       "             'America/Denver': 191,\n",
       "             'America/Edmonton': 6,\n",
       "             'America/Guayaquil': 2,\n",
       "             'America/Halifax': 4,\n",
       "             'America/Indianapolis': 20,\n",
       "             'America/La_Paz': 1,\n",
       "             'America/Lima': 1,\n",
       "             'America/Los_Angeles': 382,\n",
       "             'America/Managua': 3,\n",
       "             'America/Mazatlan': 1,\n",
       "             'America/Mexico_City': 15,\n",
       "             'America/Monterrey': 1,\n",
       "             'America/Montevideo': 1,\n",
       "             'America/Montreal': 9,\n",
       "             'America/New_York': 1251,\n",
       "             'America/Phoenix': 20,\n",
       "             'America/Puerto_Rico': 10,\n",
       "             'America/Rainy_River': 25,\n",
       "             'America/Recife': 2,\n",
       "             'America/Santo_Domingo': 1,\n",
       "             'America/Sao_Paulo': 33,\n",
       "             'America/St_Kitts': 1,\n",
       "             'America/Tegucigalpa': 1,\n",
       "             'America/Vancouver': 12,\n",
       "             'America/Winnipeg': 4,\n",
       "             'Asia/Amman': 2,\n",
       "             'Asia/Bangkok': 6,\n",
       "             'Asia/Beirut': 4,\n",
       "             'Asia/Calcutta': 9,\n",
       "             'Asia/Dubai': 4,\n",
       "             'Asia/Harbin': 3,\n",
       "             'Asia/Hong_Kong': 10,\n",
       "             'Asia/Istanbul': 9,\n",
       "             'Asia/Jakarta': 3,\n",
       "             'Asia/Jerusalem': 3,\n",
       "             'Asia/Karachi': 3,\n",
       "             'Asia/Kuala_Lumpur': 3,\n",
       "             'Asia/Kuching': 1,\n",
       "             'Asia/Manila': 1,\n",
       "             'Asia/Nicosia': 1,\n",
       "             'Asia/Novosibirsk': 1,\n",
       "             'Asia/Pontianak': 1,\n",
       "             'Asia/Riyadh': 1,\n",
       "             'Asia/Seoul': 5,\n",
       "             'Asia/Tokyo': 37,\n",
       "             'Asia/Yekaterinburg': 1,\n",
       "             'Australia/NSW': 6,\n",
       "             'Australia/Queensland': 1,\n",
       "             'Chile/Continental': 6,\n",
       "             'Europe/Amsterdam': 22,\n",
       "             'Europe/Athens': 6,\n",
       "             'Europe/Belgrade': 2,\n",
       "             'Europe/Berlin': 28,\n",
       "             'Europe/Bratislava': 3,\n",
       "             'Europe/Brussels': 4,\n",
       "             'Europe/Bucharest': 4,\n",
       "             'Europe/Budapest': 5,\n",
       "             'Europe/Copenhagen': 5,\n",
       "             'Europe/Dublin': 3,\n",
       "             'Europe/Helsinki': 10,\n",
       "             'Europe/Lisbon': 8,\n",
       "             'Europe/Ljubljana': 1,\n",
       "             'Europe/London': 74,\n",
       "             'Europe/Madrid': 35,\n",
       "             'Europe/Malta': 2,\n",
       "             'Europe/Moscow': 10,\n",
       "             'Europe/Oslo': 10,\n",
       "             'Europe/Paris': 14,\n",
       "             'Europe/Prague': 10,\n",
       "             'Europe/Riga': 2,\n",
       "             'Europe/Rome': 27,\n",
       "             'Europe/Skopje': 1,\n",
       "             'Europe/Sofia': 1,\n",
       "             'Europe/Stockholm': 14,\n",
       "             'Europe/Uzhgorod': 1,\n",
       "             'Europe/Vienna': 6,\n",
       "             'Europe/Vilnius': 2,\n",
       "             'Europe/Volgograd': 1,\n",
       "             'Europe/Warsaw': 16,\n",
       "             'Europe/Zurich': 4,\n",
       "             'Pacific/Auckland': 11,\n",
       "             'Pacific/Honolulu': 36})"
      ]
     },
     "execution_count": 10,
     "metadata": {},
     "output_type": "execute_result"
    }
   ],
   "source": [
    "# check timezone frequency\n",
    "tzs = [record['tz'] for record in records if 'tz' in record]\n",
    "\n",
    "# option 1: the hard Python way\n",
    "def get_counts(sequence):\n",
    "    counts = {}\n",
    "    for x in sequence:\n",
    "        if x in counts:\n",
    "            counts[x] += 1\n",
    "        else:\n",
    "            counts[x] = 1\n",
    "    return counts\n",
    "\n",
    "# option 1-2: Python way using standard Python library\n",
    "from collections import defaultdict\n",
    "\n",
    "def get_counts2(sequence):\n",
    "    counts = defaultdict(int)\n",
    "    for x in sequence:\n",
    "        counts[x] += 1\n",
    "    return counts\n",
    "\n",
    "print(get_counts(tzs))\n",
    "get_counts2(tzs)\n",
    "\n",
    "# option 2: Pandas way\n"
   ]
  },
  {
   "cell_type": "code",
   "execution_count": 41,
   "metadata": {},
   "outputs": [
    {
     "data": {
      "text/plain": [
       "[(33, 'America/Sao_Paulo'),\n",
       " (35, 'Europe/Madrid'),\n",
       " (36, 'Pacific/Honolulu'),\n",
       " (37, 'Asia/Tokyo'),\n",
       " (74, 'Europe/London'),\n",
       " (191, 'America/Denver'),\n",
       " (382, 'America/Los_Angeles'),\n",
       " (400, 'America/Chicago'),\n",
       " (521, ''),\n",
       " (1251, 'America/New_York')]"
      ]
     },
     "execution_count": 41,
     "metadata": {},
     "output_type": "execute_result"
    }
   ],
   "source": [
    "# most common timezones (ranking) - option #1\n",
    "\n",
    "dic = get_counts(tzs)\n",
    "\n",
    "def top_counts(count_dict, n=10):\n",
    "    value_key_pairs = [(count, tz) for tz, count in count_dict.items()]\n",
    "    value_key_pairs.sort()\n",
    "    return value_key_pairs[-n:]\n",
    "\n",
    "top_counts(dic)"
   ]
  },
  {
   "cell_type": "code",
   "execution_count": 48,
   "metadata": {},
   "outputs": [
    {
     "data": {
      "text/plain": [
       "[('Asia/Nicosia', 1),\n",
       " ('America/Mazatlan', 1),\n",
       " ('Europe/Skopje', 1),\n",
       " ('Asia/Novosibirsk', 1),\n",
       " ('Europe/Sofia', 1),\n",
       " ('Europe/Ljubljana', 1),\n",
       " ('America/Monterrey', 1),\n",
       " ('America/Argentina/Buenos_Aires', 1),\n",
       " ('Asia/Yekaterinburg', 1),\n",
       " ('Asia/Manila', 1),\n",
       " ('America/Caracas', 1),\n",
       " ('Asia/Riyadh', 1),\n",
       " ('America/Montevideo', 1),\n",
       " ('America/Argentina/Mendoza', 1),\n",
       " ('Europe/Uzhgorod', 1),\n",
       " ('Australia/Queensland', 1),\n",
       " ('America/Costa_Rica', 1),\n",
       " ('America/Lima', 1),\n",
       " ('Asia/Pontianak', 1),\n",
       " ('Africa/Lusaka', 1),\n",
       " ('Africa/Johannesburg', 1),\n",
       " ('America/St_Kitts', 1),\n",
       " ('America/Santo_Domingo', 1),\n",
       " ('America/Argentina/Cordoba', 1),\n",
       " ('Asia/Kuching', 1),\n",
       " ('Europe/Volgograd', 1),\n",
       " ('America/La_Paz', 1),\n",
       " ('Africa/Casablanca', 1),\n",
       " ('America/Tegucigalpa', 1),\n",
       " ('Africa/Ceuta', 2),\n",
       " ('Europe/Malta', 2),\n",
       " ('America/Recife', 2),\n",
       " ('Europe/Riga', 2),\n",
       " ('Europe/Belgrade', 2),\n",
       " ('America/Chihuahua', 2),\n",
       " ('Europe/Vilnius', 2),\n",
       " ('America/Guayaquil', 2),\n",
       " ('Asia/Amman', 2),\n",
       " ('Asia/Kuala_Lumpur', 3),\n",
       " ('Europe/Dublin', 3),\n",
       " ('Asia/Jerusalem', 3),\n",
       " ('Asia/Karachi', 3),\n",
       " ('America/Bogota', 3),\n",
       " ('Europe/Bratislava', 3),\n",
       " ('Africa/Cairo', 3),\n",
       " ('America/Managua', 3),\n",
       " ('Asia/Harbin', 3),\n",
       " ('Asia/Jakarta', 3),\n",
       " ('Europe/Brussels', 4),\n",
       " ('Asia/Beirut', 4),\n",
       " ('America/Halifax', 4),\n",
       " ('Europe/Bucharest', 4),\n",
       " ('Europe/Zurich', 4),\n",
       " ('America/Winnipeg', 4),\n",
       " ('Asia/Dubai', 4),\n",
       " ('Europe/Copenhagen', 5),\n",
       " ('America/Anchorage', 5),\n",
       " ('Europe/Budapest', 5),\n",
       " ('Asia/Seoul', 5),\n",
       " ('Asia/Bangkok', 6),\n",
       " ('Europe/Vienna', 6),\n",
       " ('Australia/NSW', 6),\n",
       " ('Chile/Continental', 6),\n",
       " ('America/Edmonton', 6),\n",
       " ('Europe/Athens', 6),\n",
       " ('Europe/Lisbon', 8),\n",
       " ('America/Montreal', 9),\n",
       " ('Asia/Calcutta', 9),\n",
       " ('Asia/Istanbul', 9),\n",
       " ('Asia/Hong_Kong', 10),\n",
       " ('Europe/Prague', 10),\n",
       " ('Europe/Moscow', 10),\n",
       " ('Europe/Helsinki', 10),\n",
       " ('America/Puerto_Rico', 10),\n",
       " ('Europe/Oslo', 10),\n",
       " ('Pacific/Auckland', 11),\n",
       " ('America/Vancouver', 12),\n",
       " ('Europe/Paris', 14),\n",
       " ('Europe/Stockholm', 14),\n",
       " ('America/Mexico_City', 15),\n",
       " ('Europe/Warsaw', 16),\n",
       " ('America/Phoenix', 20),\n",
       " ('America/Indianapolis', 20),\n",
       " ('Europe/Amsterdam', 22),\n",
       " ('America/Rainy_River', 25),\n",
       " ('Europe/Rome', 27),\n",
       " ('Europe/Berlin', 28),\n",
       " ('America/Sao_Paulo', 33),\n",
       " ('Europe/Madrid', 35),\n",
       " ('Pacific/Honolulu', 36),\n",
       " ('Asia/Tokyo', 37),\n",
       " ('Europe/London', 74),\n",
       " ('America/Denver', 191),\n",
       " ('America/Los_Angeles', 382),\n",
       " ('America/Chicago', 400),\n",
       " ('', 521),\n",
       " ('America/New_York', 1251)]"
      ]
     },
     "execution_count": 48,
     "metadata": {},
     "output_type": "execute_result"
    }
   ],
   "source": [
    "# sort behavior of list of tuple\n",
    "value_key_pairs = [(tz, count) for tz, count in dic.items()]\n",
    "value_key_pairs.sort(key = lambda tup: tup[1])  # sorts in-place\n",
    "value_key_pairs"
   ]
  },
  {
   "cell_type": "code",
   "execution_count": 52,
   "metadata": {},
   "outputs": [
    {
     "data": {
      "text/plain": [
       "[('America/New_York', 1251),\n",
       " ('', 521),\n",
       " ('America/Chicago', 400),\n",
       " ('America/Los_Angeles', 382),\n",
       " ('America/Denver', 191),\n",
       " ('Europe/London', 74),\n",
       " ('Asia/Tokyo', 37),\n",
       " ('Pacific/Honolulu', 36),\n",
       " ('Europe/Madrid', 35),\n",
       " ('America/Sao_Paulo', 33)]"
      ]
     },
     "execution_count": 52,
     "metadata": {},
     "output_type": "execute_result"
    }
   ],
   "source": [
    "# most common timezones (ranking) - option #2: using Python native Counter object\n",
    "from collections import Counter\n",
    "ct = Counter(dic)\n",
    "ct.most_common(10)"
   ]
  },
  {
   "cell_type": "code",
   "execution_count": 3,
   "metadata": {},
   "outputs": [
    {
     "ename": "AttributeError",
     "evalue": "module 'numpy' has no attribute 'core'",
     "output_type": "error",
     "traceback": [
      "\u001b[0;31m---------------------------------------------------------------------------\u001b[0m",
      "\u001b[0;31mAttributeError\u001b[0m                            Traceback (most recent call last)",
      "\u001b[0;32m<ipython-input-3-4ee716103900>\u001b[0m in \u001b[0;36m<module>\u001b[0;34m()\u001b[0m\n\u001b[0;32m----> 1\u001b[0;31m \u001b[0;32mimport\u001b[0m \u001b[0mnumpy\u001b[0m \u001b[0;32mas\u001b[0m \u001b[0mnp\u001b[0m\u001b[0;34m\u001b[0m\u001b[0m\n\u001b[0m",
      "\u001b[0;32m/usr/lib/python3.6/site-packages/numpy/__init__.py\u001b[0m in \u001b[0;36m<module>\u001b[0;34m()\u001b[0m\n\u001b[1;32m    140\u001b[0m         \u001b[0;32mreturn\u001b[0m \u001b[0mloader\u001b[0m\u001b[0;34m(\u001b[0m\u001b[0;34m*\u001b[0m\u001b[0mpackages\u001b[0m\u001b[0;34m,\u001b[0m \u001b[0;34m**\u001b[0m\u001b[0moptions\u001b[0m\u001b[0;34m)\u001b[0m\u001b[0;34m\u001b[0m\u001b[0m\n\u001b[1;32m    141\u001b[0m \u001b[0;34m\u001b[0m\u001b[0m\n\u001b[0;32m--> 142\u001b[0;31m     \u001b[0;32mfrom\u001b[0m \u001b[0;34m.\u001b[0m \u001b[0;32mimport\u001b[0m \u001b[0madd_newdocs\u001b[0m\u001b[0;34m\u001b[0m\u001b[0m\n\u001b[0m\u001b[1;32m    143\u001b[0m     __all__ = ['add_newdocs',\n\u001b[1;32m    144\u001b[0m                \u001b[0;34m'ModuleDeprecationWarning'\u001b[0m\u001b[0;34m,\u001b[0m\u001b[0;34m\u001b[0m\u001b[0m\n",
      "\u001b[0;32m/usr/lib/python3.6/site-packages/numpy/add_newdocs.py\u001b[0m in \u001b[0;36m<module>\u001b[0;34m()\u001b[0m\n\u001b[1;32m     11\u001b[0m \u001b[0;32mfrom\u001b[0m \u001b[0m__future__\u001b[0m \u001b[0;32mimport\u001b[0m \u001b[0mdivision\u001b[0m\u001b[0;34m,\u001b[0m \u001b[0mabsolute_import\u001b[0m\u001b[0;34m,\u001b[0m \u001b[0mprint_function\u001b[0m\u001b[0;34m\u001b[0m\u001b[0m\n\u001b[1;32m     12\u001b[0m \u001b[0;34m\u001b[0m\u001b[0m\n\u001b[0;32m---> 13\u001b[0;31m \u001b[0;32mfrom\u001b[0m \u001b[0mnumpy\u001b[0m\u001b[0;34m.\u001b[0m\u001b[0mlib\u001b[0m \u001b[0;32mimport\u001b[0m \u001b[0madd_newdoc\u001b[0m\u001b[0;34m\u001b[0m\u001b[0m\n\u001b[0m\u001b[1;32m     14\u001b[0m \u001b[0;34m\u001b[0m\u001b[0m\n\u001b[1;32m     15\u001b[0m \u001b[0;31m###############################################################################\u001b[0m\u001b[0;34m\u001b[0m\u001b[0;34m\u001b[0m\u001b[0m\n",
      "\u001b[0;32m/usr/lib/python3.6/site-packages/numpy/lib/__init__.py\u001b[0m in \u001b[0;36m<module>\u001b[0;34m()\u001b[0m\n\u001b[1;32m     16\u001b[0m \u001b[0;34m\u001b[0m\u001b[0m\n\u001b[1;32m     17\u001b[0m \u001b[0;32mfrom\u001b[0m \u001b[0;34m.\u001b[0m \u001b[0;32mimport\u001b[0m \u001b[0mscimath\u001b[0m \u001b[0;32mas\u001b[0m \u001b[0memath\u001b[0m\u001b[0;34m\u001b[0m\u001b[0m\n\u001b[0;32m---> 18\u001b[0;31m \u001b[0;32mfrom\u001b[0m \u001b[0;34m.\u001b[0m\u001b[0mpolynomial\u001b[0m \u001b[0;32mimport\u001b[0m \u001b[0;34m*\u001b[0m\u001b[0;34m\u001b[0m\u001b[0m\n\u001b[0m\u001b[1;32m     19\u001b[0m \u001b[0;31m#import convertcode\u001b[0m\u001b[0;34m\u001b[0m\u001b[0;34m\u001b[0m\u001b[0m\n\u001b[1;32m     20\u001b[0m \u001b[0;32mfrom\u001b[0m \u001b[0;34m.\u001b[0m\u001b[0mutils\u001b[0m \u001b[0;32mimport\u001b[0m \u001b[0;34m*\u001b[0m\u001b[0;34m\u001b[0m\u001b[0m\n",
      "\u001b[0;32m/usr/lib/python3.6/site-packages/numpy/lib/polynomial.py\u001b[0m in \u001b[0;36m<module>\u001b[0;34m()\u001b[0m\n\u001b[1;32m     11\u001b[0m \u001b[0;32mimport\u001b[0m \u001b[0mre\u001b[0m\u001b[0;34m\u001b[0m\u001b[0m\n\u001b[1;32m     12\u001b[0m \u001b[0;32mimport\u001b[0m \u001b[0mwarnings\u001b[0m\u001b[0;34m\u001b[0m\u001b[0m\n\u001b[0;32m---> 13\u001b[0;31m \u001b[0;32mimport\u001b[0m \u001b[0mnumpy\u001b[0m\u001b[0;34m.\u001b[0m\u001b[0mcore\u001b[0m\u001b[0;34m.\u001b[0m\u001b[0mnumeric\u001b[0m \u001b[0;32mas\u001b[0m \u001b[0mNX\u001b[0m\u001b[0;34m\u001b[0m\u001b[0m\n\u001b[0m\u001b[1;32m     14\u001b[0m \u001b[0;34m\u001b[0m\u001b[0m\n\u001b[1;32m     15\u001b[0m from numpy.core import (isscalar, abs, finfo, atleast_1d, hstack, dot, array,\n",
      "\u001b[0;31mAttributeError\u001b[0m: module 'numpy' has no attribute 'core'"
     ]
    }
   ],
   "source": [
    "import numpy as np"
   ]
  }
 ],
 "metadata": {
  "kernelspec": {
   "display_name": "Python 3",
   "language": "python",
   "name": "python3"
  },
  "language_info": {
   "codemirror_mode": {
    "name": "ipython",
    "version": 3
   },
   "file_extension": ".py",
   "mimetype": "text/x-python",
   "name": "python",
   "nbconvert_exporter": "python",
   "pygments_lexer": "ipython3",
   "version": "3.6.1"
  }
 },
 "nbformat": 4,
 "nbformat_minor": 2
}
